{
  "nbformat": 4,
  "nbformat_minor": 0,
  "metadata": {
    "colab": {
      "name": "ML_assignment (1).ipynb",
      "provenance": [],
      "collapsed_sections": []
    },
    "kernelspec": {
      "name": "python3",
      "display_name": "Python 3"
    },
    "language_info": {
      "name": "python"
    },
    "accelerator": "GPU"
  },
  "cells": [
    {
      "cell_type": "markdown",
      "metadata": {
        "id": "UkJr6Lh9aIem"
      },
      "source": [
        "## Question 1 : Linear Regression\n",
        "To check whether you are able to build simple linear regression model from scratch or not."
      ]
    },
    {
      "cell_type": "code",
      "metadata": {
        "id": "wq1ZliSEuhTw",
        "colab": {
          "base_uri": "https://localhost:8080/"
        },
        "outputId": "cad7a1f5-f240-43ed-ea98-8b91f8afb35a"
      },
      "source": [
        "import numpy as np\n",
        "import matplotlib.pyplot as plt\n",
        " \n",
        "!wget --no-check-certificate https://github.com/adigup390/datasets/raw/main/X.npy -O X.npy\n",
        "!wget --no-check-certificate https://github.com/adigup390/datasets/raw/main/y.npy -O y.npy"
      ],
      "execution_count": 2,
      "outputs": [
        {
          "output_type": "stream",
          "text": [
            "--2021-05-26 16:48:14--  https://github.com/adigup390/datasets/raw/main/X.npy\n",
            "Resolving github.com (github.com)... 140.82.112.4\n",
            "Connecting to github.com (github.com)|140.82.112.4|:443... connected.\n",
            "HTTP request sent, awaiting response... 302 Found\n",
            "Location: https://raw.githubusercontent.com/adigup390/datasets/main/X.npy [following]\n",
            "--2021-05-26 16:48:14--  https://raw.githubusercontent.com/adigup390/datasets/main/X.npy\n",
            "Resolving raw.githubusercontent.com (raw.githubusercontent.com)... 185.199.108.133, 185.199.109.133, 185.199.110.133, ...\n",
            "Connecting to raw.githubusercontent.com (raw.githubusercontent.com)|185.199.108.133|:443... connected.\n",
            "HTTP request sent, awaiting response... 200 OK\n",
            "Length: 528 [application/octet-stream]\n",
            "Saving to: ‘X.npy’\n",
            "\n",
            "X.npy               100%[===================>]     528  --.-KB/s    in 0s      \n",
            "\n",
            "2021-05-26 16:48:14 (12.9 MB/s) - ‘X.npy’ saved [528/528]\n",
            "\n",
            "--2021-05-26 16:48:14--  https://github.com/adigup390/datasets/raw/main/y.npy\n",
            "Resolving github.com (github.com)... 140.82.114.4\n",
            "Connecting to github.com (github.com)|140.82.114.4|:443... connected.\n",
            "HTTP request sent, awaiting response... 302 Found\n",
            "Location: https://raw.githubusercontent.com/adigup390/datasets/main/y.npy [following]\n",
            "--2021-05-26 16:48:14--  https://raw.githubusercontent.com/adigup390/datasets/main/y.npy\n",
            "Resolving raw.githubusercontent.com (raw.githubusercontent.com)... 185.199.110.133, 185.199.109.133, 185.199.108.133, ...\n",
            "Connecting to raw.githubusercontent.com (raw.githubusercontent.com)|185.199.110.133|:443... connected.\n",
            "HTTP request sent, awaiting response... 200 OK\n",
            "Length: 528 [application/octet-stream]\n",
            "Saving to: ‘y.npy’\n",
            "\n",
            "y.npy               100%[===================>]     528  --.-KB/s    in 0s      \n",
            "\n",
            "2021-05-26 16:48:14 (22.0 MB/s) - ‘y.npy’ saved [528/528]\n",
            "\n"
          ],
          "name": "stdout"
        }
      ]
    },
    {
      "cell_type": "code",
      "metadata": {
        "id": "021fTYdwTkZm"
      },
      "source": [
        "def load_data_LR():\n",
        "  # Implement this function to read the dataset using the path declared in path_X and path_y\n",
        "  # should return the X and y data\n",
        "  # use np.load() to load the data google it you will get to know how to do it\n",
        "\n",
        "  path_X = \"X.npy\"\n",
        "  path_y = \"y.npy\"\n",
        "\n",
        "  # Write your code here ----------\n",
        "\n",
        "  # -------------------------------\n",
        "  X = np.load(path_X, allow_pickle=True)       #, allow_pickle=True\n",
        "  y = np.load(path_y, allow_pickle=True)\n",
        "\n",
        "  return X, y"
      ],
      "execution_count": 3,
      "outputs": []
    },
    {
      "cell_type": "code",
      "metadata": {
        "id": "Ngg3QUyTfBxC"
      },
      "source": [
        "def get_linear_model(X, y):\n",
        "  # This shoudl return a proper linear model without bias of type y = XW\n",
        "\n",
        "  # Write your code here ----------\n",
        "  \n",
        "  # -------------------------------\n",
        "\n",
        "  D=X.shape[1]\n",
        "  out_shape = y.shape[1]\n",
        "  W = np.random.randn(D, out_shape)\n",
        "\n",
        "\n",
        "  return W"
      ],
      "execution_count": 4,
      "outputs": []
    },
    {
      "cell_type": "code",
      "metadata": {
        "id": "c52FIGu-hlzM"
      },
      "source": [
        "def MSE(y, y_pred):\n",
        "  # should return the mean square error between the actual y and predicted y\n",
        "\n",
        "  # Write your code here ----------\n",
        "  \n",
        "  # -------------------------------\n",
        "  error = np.square(np.subtract(y, y_pred)).mean()\n",
        "\n",
        "  return error"
      ],
      "execution_count": 5,
      "outputs": []
    },
    {
      "cell_type": "code",
      "metadata": {
        "id": "zrBrqA15hCdT"
      },
      "source": [
        "def train_by_algebra(X, y):\n",
        "  # should return the trained weight 'W' using the linear algebra method i.e. setting dE/dW = 0\n",
        "\n",
        "  # Write your code here ----------\n",
        "  \n",
        "  # -------------------------------\n",
        "  W = np.linalg.inv(np.dot(X.T, X))\n",
        "  W = np.dot(W, X.T)\n",
        "  W = np.dot(W, y.reshape(-1,1))\n",
        "\n",
        "  return W"
      ],
      "execution_count": 6,
      "outputs": []
    },
    {
      "cell_type": "code",
      "metadata": {
        "id": "kJ_r_R1PixX2"
      },
      "source": [
        "def train_by_GD(X, y, epochs=5, lr=0.01):\n",
        "  # should return the trained weight 'W' using the gradient descent for number of iterations equals to epochs\n",
        "  # should also return error history int the cariable error_hist.shape = (epochs,); error_hist[i] = mean square error after epoch i-1\n",
        "  # should also print mean square error after each epoch/ iteration\n",
        "  # lr = \"learning rate\" i.e. eta\n",
        "  \n",
        "  # Write your code here ----------\n",
        "  \n",
        "  # -------------------------------\n",
        "  # m = len(y)\n",
        "  error_hist = []#np.zeros(epochs)\n",
        "  W = get_linear_model(X, y)\n",
        "\n",
        "  # error_hist = []\n",
        "  for i in range(epochs):\n",
        "    y_pred = np.dot(X, W)\n",
        "\n",
        "    W = W + lr*np.dot(X.T, (y.reshape(-1,1)-y_pred.reshape(-1,1))).reshape(-1, 1)\n",
        "    # error_hist[i] = MSE(y, y_pred)\n",
        "    error_hist.append(MSE(y, y_pred))\n",
        "    # error_hist[i] = MSE[y, y_pred]\n",
        "\n",
        "  return W, np.array(error_hist)"
      ],
      "execution_count": 7,
      "outputs": []
    },
    {
      "cell_type": "markdown",
      "metadata": {
        "id": "uLTxFIOgkdjJ"
      },
      "source": [
        "### Now write a complete code using the function defined above to learn the model for following cases:"
      ]
    },
    {
      "cell_type": "markdown",
      "metadata": {
        "id": "eYW1AukM378a"
      },
      "source": [
        "##### Learn **W** using linear algebra method and prints mean square error between actual y and predicted y. Use `y_pred = XW`. Also plot y_pred and y on different plots."
      ]
    },
    {
      "cell_type": "code",
      "metadata": {
        "id": "AIRs0jB-kOZU",
        "colab": {
          "base_uri": "https://localhost:8080/",
          "height": 282
        },
        "outputId": "7747e211-bd20-4a0c-bce7-455fd106dd78"
      },
      "source": [
        "# Write your code here ----------\n",
        "  \n",
        "# -------------------------------\n",
        "\n",
        "X,y = load_data_LR()\n",
        "\n",
        "\n",
        "W = train_by_algebra(X,y)\n",
        "y_pred = np.dot(X,W)\n",
        "# print(MSE(y, y_pred))\n",
        "\n",
        "print(\"MSE:\", MSE(y, y_pred))\n",
        "plt.plot(y_pred, label=\"y_pred\")\n",
        "plt.plot(y, label=\"y\")\n",
        "plt.legend()\n",
        "plt.show()"
      ],
      "execution_count": 8,
      "outputs": [
        {
          "output_type": "stream",
          "text": [
            "MSE: 5.490059820643823\n"
          ],
          "name": "stdout"
        },
        {
          "output_type": "display_data",
          "data": {
            "image/png": "[encoded data removed]",
            "text/plain": [
              "<Figure size 432x288 with 1 Axes>"
            ]
          },
          "metadata": {
            "tags": [],
            "needs_background": "light"
          }
        }
      ]
    },
    {
      "cell_type": "markdown",
      "metadata": {
        "id": "6kP77_sK4CpT"
      },
      "source": [
        "##### Learn **W** using gradient descent method for following learning rates, `lr = [0.01, 0.001, 0.0001]` for **10 epochs**. Plot **MSE vs epochs** for each of them.  Also plot y_pred and y on different plots."
      ]
    },
    {
      "cell_type": "code",
      "metadata": {
        "id": "1bac27RT4G2H",
        "colab": {
          "base_uri": "https://localhost:8080/",
          "height": 1000
        },
        "outputId": "baf991d3-4afd-49f9-e3f5-824500185de7"
      },
      "source": [
        "# Write your code here ----------\n",
        "  \n",
        "# -------------------------------\n",
        "# X,y = load_data_LR()\n",
        "# y_pred = np.dot(X,W)\n",
        "# print(MSE(y, y_pred))\n",
        "\n",
        "\n",
        "# Weight, error_hist = train_by_GD(X, y, epochs=10, lr=0.01)\n",
        "# plt.plot((error_hist), label=\"lr = 0.01\")\n",
        "# plt.legend()\n",
        "# plt.show()\n",
        "\n",
        "# plt.title(\"lr = 0.01\")\n",
        "# plt.plot(np.dot(X, W), label=\"y_pred\")\n",
        "# plt.plot(y,label=\"y\")\n",
        "# plt.legend()\n",
        "# plt.show()\n",
        "\n",
        "\n",
        "# Weight, error_hist = train_by_GD(X, y, epochs=10, lr=0.001)\n",
        "# plt.plot((error_hist), label=\"lr = 0.001\")\n",
        "# plt.legend()\n",
        "# plt.show()\n",
        "\n",
        "# plt.title(\"lr = 0.001\")\n",
        "# plt.plot(np.dot(X, W), label=\"y_pred\")\n",
        "# plt.plot(y,label=\"y\")\n",
        "# plt.legend()\n",
        "# plt.show()\n",
        "\n",
        "\n",
        "# Weight, error_hist = train_by_GD(X, y, epochs=10, lr=0.0001)\n",
        "# plt.plot((error_hist), label=\"lr = 0.0001\")\n",
        "# plt.legend()\n",
        "# plt.show()\n",
        "\n",
        "# plt.title(\"lr = 0.0001\")\n",
        "# plt.plot(np.dot(X, W), label=\"y_pred\")\n",
        "# plt.plot(y,label=\"y\")\n",
        "# plt.legend()\n",
        "# plt.show()\n",
        "\n",
        "arr = [0.01, 0.001, 0.0001]\n",
        "\n",
        "for lr in arr:\n",
        "  W, error_hist = train_by_GD(X, y, epochs=10, lr=lr)\n",
        "  plt.figure(100)\n",
        "  plt.plot(error_hist, label=\"lr = \"+ str(lr))\n",
        "\n",
        "  plt.figure(int(lr*100000)+2)\n",
        "  y_pred = np.dot(X, W)\n",
        "  plt.plot(y_pred, label=\"y_pred\")\n",
        "  plt.plot(y, label=\"y\")\n",
        "  plt.legend()\n",
        "\n",
        "plt.figure(100)\n",
        "plt.title(\"Error vs Epochs\")\n",
        "plt.legend()\n",
        "plt.show()"
      ],
      "execution_count": 23,
      "outputs": [
        {
          "output_type": "display_data",
          "data": {
            "image/png": "[encoded data removed]",
            "text/plain": [
              "<Figure size 432x288 with 1 Axes>"
            ]
          },
          "metadata": {
            "tags": [],
            "needs_background": "light"
          }
        },
        {
          "output_type": "display_data",
          "data": {
            "image/png": "[encoded data removed]",
            "text/plain": [
              "<Figure size 432x288 with 1 Axes>"
            ]
          },
          "metadata": {
            "tags": [],
            "needs_background": "light"
          }
        },
        {
          "output_type": "display_data",
          "data": {
            "image/png": "[encoded data removed]",
            "text/plain": [
              "<Figure size 432x288 with 1 Axes>"
            ]
          },
          "metadata": {
            "tags": [],
            "needs_background": "light"
          }
        },
        {
          "output_type": "display_data",
          "data": {
            "image/png": "[encoded data removed]",
            "text/plain": [
              "<Figure size 432x288 with 1 Axes>"
            ]
          },
          "metadata": {
            "tags": [],
            "needs_background": "light"
          }
        }
      ]
    },
    {
      "cell_type": "code",
      "metadata": {
        "id": "mna7Uh0vJuNe"
      },
      "source": [
        ""
      ],
      "execution_count": 8,
      "outputs": []
    },
    {
      "cell_type": "markdown",
      "metadata": {
        "id": "4zJO-LIvn6sD"
      },
      "source": [
        "## Question 2: Image Classification in Tensorflow using Deep Learning\n",
        "To check whether you are able to build a given neural network model in tensorflow or not. First we will build a fully connected NN model second we will build a CNN model."
      ]
    },
    {
      "cell_type": "code",
      "metadata": {
        "id": "7mynGfqRn24b"
      },
      "source": [
        "import numpy as np\n",
        "import tensorflow as tf\n",
        "import matplotlib.pyplot as plt"
      ],
      "execution_count": 6,
      "outputs": []
    },
    {
      "cell_type": "code",
      "metadata": {
        "id": "s8WKt-qY4agV"
      },
      "source": [
        "def plot_history(history):\n",
        "  # function to plot accuracy vs epoch\n",
        "\n",
        "  plt.plot(history.history['accuracy'], label='accuracy')\n",
        "  plt.plot(history.history['val_accuracy'], label = 'val_accuracy')\n",
        "  plt.xlabel('Epoch')\n",
        "  plt.ylabel('Accuracy')\n",
        "  plt.legend(loc='lower right')"
      ],
      "execution_count": 7,
      "outputs": []
    },
    {
      "cell_type": "code",
      "metadata": {
        "id": "tCT9Kmhhn5I_"
      },
      "source": [
        "def load_data_cifar10_norm():\n",
        "  # should return the normalised cifar10 dataset by loading it from tensorflow\n",
        "  # link: https://www.tensorflow.org/api_docs/python/tf/keras/datasets/cifar10/\n",
        "\n",
        "  # Write your code here ----------\n",
        "\n",
        "  # -------------------------------\n",
        "  (x_train, y_train), (x_test, y_test) = tf.keras.datasets.cifar10.load_data()\n",
        "  x_train, x_test = x_train/255.0, x_test/255.0\n",
        "\n",
        "  return x_train, y_train, x_test, y_test"
      ],
      "execution_count": 8,
      "outputs": []
    },
    {
      "cell_type": "markdown",
      "metadata": {
        "id": "LDpHSTRPvS9t"
      },
      "source": [
        "### Define a fully connected neural network model with following attributes:\n",
        "\n",
        "*   Total number of **hidden layers = 4**, all with **relu** activation\n",
        "*   Number of neurons in **first hidden layer = 7200**\n",
        "*   Number of neurons in **second hidden layer = 2304**\n",
        "*   Number of neurons in **third hidden layer = 1024**\n",
        "*   Number of neurons in **fourth hidden layer = 64**\n"
      ]
    },
    {
      "cell_type": "code",
      "metadata": {
        "id": "VYYQzIWnqU3t"
      },
      "source": [
        "def build_fc_model(input_shape=(32, 32, 3), num_class=10):\n",
        "  # should return a sequential model defined based on the above attributes\n",
        "  # do not compile the model\n",
        "\n",
        "  # Write your code here ----------\n",
        "\n",
        "  # -------------------------------\n",
        "  model = tf.keras.Sequential([\n",
        "                               tf.keras.layers.Flatten(),\n",
        "                               tf.keras.layers.Dense(7200, activation=tf.nn.relu , input_shape=input_shape),\n",
        "                               tf.keras.layers.Dense(2304, activation=tf.nn.relu),\n",
        "                               tf.keras.layers.Dense(1024, activation=tf.nn.relu),\n",
        "                               tf.keras.layers.Dense(64, activation=tf.nn.relu),\n",
        "                               tf.keras.layers.Dropout(0.3),\n",
        "                               tf.keras.layers.Dense(num_class, activation=tf.nn.softmax)\n",
        "  ])\n",
        "\n",
        "  return model"
      ],
      "execution_count": 9,
      "outputs": []
    },
    {
      "cell_type": "markdown",
      "metadata": {
        "id": "pdcQ2yqz1RYH"
      },
      "source": [
        "### Define a CNN model with following attribute:\n",
        "\n",
        "*   Total number of **hidden layer = 4**\n",
        "*   After every convolutional layer there must be a MaxPoolingLayer of size (2, 2)\n",
        "*   Total number of convolutional layer = 3, all with **relu** activation.\n",
        "    *    Number of filters in **first convolutional layer = 32**\n",
        "    *    Number of filters in **second convolutional layer = 64**\n",
        "    *    Number of filters in **third convolutional layer = 64**\n",
        "*   After all convolutional layer flatten the output and use **dense layer of 64 neurons**\n",
        "\n"
      ]
    },
    {
      "cell_type": "code",
      "metadata": {
        "id": "T00AYU3D3L1j"
      },
      "source": [
        "def build_cnn_model(input_shape=(32, 32, 3), num_class=10):\n",
        "  # should return a sequential model defined based on the above attributes\n",
        "  # do not compile the model\n",
        "\n",
        "  # Write your code here ----------\n",
        "\n",
        "  # -------------------------------\n",
        "  model = tf.keras.Sequential([\n",
        "                               tf.keras.Sequential([\n",
        "                                                    tf.keras.layers.Conv2D(32, (3,3), activation=tf.nn.relu, input_shape=input_shape),\n",
        "                                                    tf.keras.layers.MaxPooling2D(2,2),\n",
        "                                                    tf.keras.layers.Conv2D(64, (3,3), activation=tf.nn.relu),\n",
        "                                                    tf.keras.layers.MaxPooling2D(2,2),\n",
        "                                                    tf.keras.layers.Conv2D(64, (3,3), activation=tf.nn.relu),\n",
        "                                                    tf.keras.layers.Flatten(),\n",
        "                                                    tf.keras.layers.Dense(64, activation=tf.nn.relu),\n",
        "                                                    tf.keras.layers.Dropout(0.4),\n",
        "                                                    tf.keras.layers.Dense(10, activation=tf.nn.softmax)\n",
        "                               ])\n",
        "  ])\n",
        "\n",
        "  return model"
      ],
      "execution_count": 10,
      "outputs": []
    },
    {
      "cell_type": "markdown",
      "metadata": {
        "id": "7SXXUeRp4Urq"
      },
      "source": [
        "### Compile and train the fully connected neural network model using the above functions."
      ]
    },
    {
      "cell_type": "code",
      "metadata": {
        "id": "61_XiEUR3eV0",
        "colab": {
          "base_uri": "https://localhost:8080/",
          "height": 1000
        },
        "outputId": "c9ef4b01-037f-41fa-b624-90732ee79601"
      },
      "source": [
        "# Write your code here ----------\n",
        "\n",
        "# -------------------------------\n",
        "\n",
        "x_train, y_train, x_test, y_test = load_data_cifar10_norm()\n",
        "model = build_fc_model()\n",
        "\n",
        "model.compile(optimizer=tf.optimizers.Adam(lr=0.0001), loss=\"sparse_categorical_crossentropy\", metrics=['accuracy'])\n",
        "\n",
        "history = model.fit(x_train, y_train, epochs=10, batch_size=512,\n",
        "                    validation_data=(x_test, y_test))\n",
        "\n",
        "plot_history(history)\n",
        "model.summary()"
      ],
      "execution_count": 21,
      "outputs": [
        {
          "output_type": "stream",
          "text": [
            "/usr/local/lib/python3.7/dist-packages/tensorflow/python/keras/optimizer_v2/optimizer_v2.py:375: UserWarning: The `lr` argument is deprecated, use `learning_rate` instead.\n",
            "  \"The `lr` argument is deprecated, use `learning_rate` instead.\")\n"
          ],
          "name": "stderr"
        },
        {
          "output_type": "stream",
          "text": [
            "Epoch 1/10\n",
            "98/98 [==============================] - 3s 27ms/step - loss: 2.0399 - accuracy: 0.2541 - val_loss: 1.8069 - val_accuracy: 0.3685\n",
            "Epoch 2/10\n",
            "98/98 [==============================] - 2s 25ms/step - loss: 1.8359 - accuracy: 0.3452 - val_loss: 1.6789 - val_accuracy: 0.4042\n",
            "Epoch 3/10\n",
            "98/98 [==============================] - 2s 25ms/step - loss: 1.7090 - accuracy: 0.3976 - val_loss: 1.5918 - val_accuracy: 0.4507\n",
            "Epoch 4/10\n",
            "98/98 [==============================] - 2s 25ms/step - loss: 1.6325 - accuracy: 0.4260 - val_loss: 1.5991 - val_accuracy: 0.4324\n",
            "Epoch 5/10\n",
            "98/98 [==============================] - 2s 25ms/step - loss: 1.5697 - accuracy: 0.4480 - val_loss: 1.5077 - val_accuracy: 0.4686\n",
            "Epoch 6/10\n",
            "98/98 [==============================] - 2s 25ms/step - loss: 1.5190 - accuracy: 0.4666 - val_loss: 1.4512 - val_accuracy: 0.4890\n",
            "Epoch 7/10\n",
            "98/98 [==============================] - 2s 25ms/step - loss: 1.4751 - accuracy: 0.4830 - val_loss: 1.4366 - val_accuracy: 0.4924\n",
            "Epoch 8/10\n",
            "98/98 [==============================] - 2s 25ms/step - loss: 1.4433 - accuracy: 0.4927 - val_loss: 1.4637 - val_accuracy: 0.4761\n",
            "Epoch 9/10\n",
            "98/98 [==============================] - 2s 25ms/step - loss: 1.3981 - accuracy: 0.5116 - val_loss: 1.4202 - val_accuracy: 0.4957\n",
            "Epoch 10/10\n",
            "98/98 [==============================] - 2s 25ms/step - loss: 1.3650 - accuracy: 0.5230 - val_loss: 1.4201 - val_accuracy: 0.4933\n",
            "Model: \"sequential_18\"\n",
            "_________________________________________________________________\n",
            "Layer (type)                 Output Shape              Param #   \n",
            "=================================================================\n",
            "flatten_10 (Flatten)         (None, 3072)              0         \n",
            "_________________________________________________________________\n",
            "dense_26 (Dense)             (None, 7200)              22125600  \n",
            "_________________________________________________________________\n",
            "dense_27 (Dense)             (None, 2304)              16591104  \n",
            "_________________________________________________________________\n",
            "dense_28 (Dense)             (None, 1024)              2360320   \n",
            "_________________________________________________________________\n",
            "dense_29 (Dense)             (None, 64)                65600     \n",
            "_________________________________________________________________\n",
            "dropout_10 (Dropout)         (None, 64)                0         \n",
            "_________________________________________________________________\n",
            "dense_30 (Dense)             (None, 10)                650       \n",
            "=================================================================\n",
            "Total params: 41,143,274\n",
            "Trainable params: 41,143,274\n",
            "Non-trainable params: 0\n",
            "_________________________________________________________________\n"
          ],
          "name": "stdout"
        },
        {
          "output_type": "display_data",
          "data": {
            "image/png": "[encoded data removed]",
            "text/plain": [
              "<Figure size 432x288 with 1 Axes>"
            ]
          },
          "metadata": {
            "tags": [],
            "needs_background": "light"
          }
        }
      ]
    },
    {
      "cell_type": "markdown",
      "metadata": {
        "id": "Z_yHXGc47ENb"
      },
      "source": [
        "### Compile and train the CNN model using the above functions."
      ]
    },
    {
      "cell_type": "code",
      "metadata": {
        "id": "aM9rueu97Gnq",
        "colab": {
          "base_uri": "https://localhost:8080/",
          "height": 823
        },
        "outputId": "df79792b-f712-47d9-d6b4-e36db4bd0a95"
      },
      "source": [
        "# Write your code here ----------\n",
        "\n",
        "# -------------------------------\n",
        "x_train, y_train, x_test, y_test = load_data_cifar10_norm()\n",
        "model = build_cnn_model()\n",
        "\n",
        "model.compile(optimizer=tf.optimizers.Adam(lr=0.01), loss=\"sparse_categorical_crossentropy\", metrics=['accuracy'])\n",
        "\n",
        "history = model.fit(x_train, y_train, epochs=10, batch_size=512,\n",
        "                    validation_data=(x_test, y_test))\n",
        "\n",
        "plot_history(history)\n",
        "model.summary()"
      ],
      "execution_count": 22,
      "outputs": [
        {
          "output_type": "stream",
          "text": [
            "/usr/local/lib/python3.7/dist-packages/tensorflow/python/keras/optimizer_v2/optimizer_v2.py:375: UserWarning: The `lr` argument is deprecated, use `learning_rate` instead.\n",
            "  \"The `lr` argument is deprecated, use `learning_rate` instead.\")\n"
          ],
          "name": "stderr"
        },
        {
          "output_type": "stream",
          "text": [
            "Epoch 1/10\n",
            "98/98 [==============================] - 2s 15ms/step - loss: 2.1106 - accuracy: 0.2020 - val_loss: 1.8498 - val_accuracy: 0.3096\n",
            "Epoch 2/10\n",
            "98/98 [==============================] - 1s 12ms/step - loss: 1.7915 - accuracy: 0.3286 - val_loss: 1.5958 - val_accuracy: 0.4081\n",
            "Epoch 3/10\n",
            "98/98 [==============================] - 1s 12ms/step - loss: 1.6195 - accuracy: 0.4024 - val_loss: 1.4840 - val_accuracy: 0.4541\n",
            "Epoch 4/10\n",
            "98/98 [==============================] - 1s 11ms/step - loss: 1.5435 - accuracy: 0.4359 - val_loss: 1.4395 - val_accuracy: 0.4740\n",
            "Epoch 5/10\n",
            "98/98 [==============================] - 1s 12ms/step - loss: 1.5059 - accuracy: 0.4462 - val_loss: 1.4393 - val_accuracy: 0.4833\n",
            "Epoch 6/10\n",
            "98/98 [==============================] - 1s 11ms/step - loss: 1.4836 - accuracy: 0.4602 - val_loss: 1.3800 - val_accuracy: 0.5002\n",
            "Epoch 7/10\n",
            "98/98 [==============================] - 1s 12ms/step - loss: 1.4487 - accuracy: 0.4741 - val_loss: 1.4035 - val_accuracy: 0.4921\n",
            "Epoch 8/10\n",
            "98/98 [==============================] - 1s 12ms/step - loss: 1.4189 - accuracy: 0.4825 - val_loss: 1.3677 - val_accuracy: 0.5136\n",
            "Epoch 9/10\n",
            "98/98 [==============================] - 1s 12ms/step - loss: 1.3979 - accuracy: 0.4941 - val_loss: 1.3273 - val_accuracy: 0.5150\n",
            "Epoch 10/10\n",
            "98/98 [==============================] - 1s 11ms/step - loss: 1.3963 - accuracy: 0.4937 - val_loss: 1.3440 - val_accuracy: 0.5092\n",
            "Model: \"sequential_20\"\n",
            "_________________________________________________________________\n",
            "Layer (type)                 Output Shape              Param #   \n",
            "=================================================================\n",
            "sequential_19 (Sequential)   (None, 10)                122570    \n",
            "=================================================================\n",
            "Total params: 122,570\n",
            "Trainable params: 122,570\n",
            "Non-trainable params: 0\n",
            "_________________________________________________________________\n"
          ],
          "name": "stdout"
        },
        {
          "output_type": "display_data",
          "data": {
            "image/png": "[encoded data removed]",
            "text/plain": [
              "<Figure size 432x288 with 1 Axes>"
            ]
          },
          "metadata": {
            "tags": [],
            "needs_background": "light"
          }
        }
      ]
    },
    {
      "cell_type": "markdown",
      "metadata": {
        "id": "nKwrtPcy750Q"
      },
      "source": [
        "### What do you observe? Compare both the model by looking at their Accuracy vs Epoch plot and total numbers of trainable parameters."
      ]
    },
    {
      "cell_type": "code",
      "metadata": {
        "id": "Q2lFRCoL8N_b",
        "colab": {
          "base_uri": "https://localhost:8080/"
        },
        "outputId": "b0af7e0a-e1a5-470f-b242-68946ab3e12b"
      },
      "source": [
        "print(\"CNN model took less time to fit than simple neural network for same number of epochs. Trainable parameters in neural network are 41,143,274 and in CNN model is 122,570. So, in CNN model there are lesser paramters.  \")"
      ],
      "execution_count": 23,
      "outputs": [
        {
          "output_type": "stream",
          "text": [
            "CNN model took less time to fit than simple neural network for same number of epochs. Trainable parameters in neural network are 41,143,274 and in CNN model is 122,570. So, in CNN model there are lesser paramters.  \n"
          ],
          "name": "stdout"
        }
      ]
    }
  ]
}